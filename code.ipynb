{
 "cells": [
  {
   "cell_type": "code",
   "execution_count": 98,
   "id": "8d883f78",
   "metadata": {},
   "outputs": [],
   "source": [
    "import tensorflow as tf\n",
    "import os\n",
    "import shutil"
   ]
  },
  {
   "cell_type": "code",
   "execution_count": 135,
   "id": "3c0fcad8",
   "metadata": {},
   "outputs": [],
   "source": [
    "from keras.preprocessing.image import ImageDataGenerator\n",
    "from tensorflow import keras\n"
   ]
  },
  {
   "cell_type": "code",
   "execution_count": 136,
   "id": "51615555",
   "metadata": {},
   "outputs": [
    {
     "name": "stdout",
     "output_type": "stream",
     "text": [
      "Found 20000 images belonging to 2 classes.\n"
     ]
    }
   ],
   "source": [
    "train_datagen = ImageDataGenerator(\n",
    "        rescale=1./255,\n",
    "        shear_range=0.2,\n",
    "        zoom_range=0.2,\n",
    "        horizontal_flip=True)\n",
    "\n",
    "train_generator = train_datagen.flow_from_directory(\n",
    "        'archive/train/',\n",
    "        target_size=(64,64),\n",
    "        batch_size=16,\n",
    "        class_mode='binary')"
   ]
  },
  {
   "cell_type": "code",
   "execution_count": 137,
   "id": "2f69324a",
   "metadata": {},
   "outputs": [
    {
     "name": "stdout",
     "output_type": "stream",
     "text": [
      "Found 5000 images belonging to 2 classes.\n"
     ]
    }
   ],
   "source": [
    "test_datagen = ImageDataGenerator(rescale=1./255)\n",
    "\n",
    "validation_generator = test_datagen.flow_from_directory(\n",
    "        'archive/test/',\n",
    "        target_size=(64,64),\n",
    "        batch_size=16,\n",
    "        class_mode='binary')"
   ]
  },
  {
   "cell_type": "code",
   "execution_count": 138,
   "id": "699a3f88",
   "metadata": {},
   "outputs": [],
   "source": [
    "#build CNN model\n",
    "#initialize\n",
    "\n",
    "cnn= tf.keras.models.Sequential()"
   ]
  },
  {
   "cell_type": "code",
   "execution_count": 139,
   "id": "bd84ce39",
   "metadata": {},
   "outputs": [],
   "source": [
    "cnn.add(tf.keras.layers.Conv2D(filters = 32, kernel_size = 3, activation = 'relu', input_shape = [64,64,3]))"
   ]
  },
  {
   "cell_type": "code",
   "execution_count": 140,
   "id": "299d55cc",
   "metadata": {},
   "outputs": [],
   "source": [
    "cnn.add(tf.keras.layers.MaxPool2D(pool_size = 2, strides = 2))"
   ]
  },
  {
   "cell_type": "code",
   "execution_count": 141,
   "id": "36e9e174",
   "metadata": {},
   "outputs": [],
   "source": [
    "#providing one more layer \n",
    "\n",
    "cnn.add(tf.keras.layers.Conv2D(filters = 32, kernel_size = 3, activation = 'relu'))\n",
    "\n",
    "cnn.add(tf.keras.layers.MaxPool2D(pool_size = 2, strides = 2))"
   ]
  },
  {
   "cell_type": "code",
   "execution_count": 142,
   "id": "33ba8b72",
   "metadata": {},
   "outputs": [],
   "source": [
    "#Flattten\n",
    "\n",
    "cnn.add(tf.keras.layers.Flatten())"
   ]
  },
  {
   "cell_type": "code",
   "execution_count": 143,
   "id": "a3793bae",
   "metadata": {},
   "outputs": [],
   "source": [
    "#full connection\n",
    "\n",
    "cnn.add(tf.keras.layers.Dense(units = 128, activation = 'relu'))"
   ]
  },
  {
   "cell_type": "code",
   "execution_count": 144,
   "id": "3ea559e2",
   "metadata": {},
   "outputs": [],
   "source": [
    "#output layer\n",
    " \n",
    "cnn.add(tf.keras.layers.Dense(units = 1, activation = 'sigmoid'))"
   ]
  },
  {
   "cell_type": "code",
   "execution_count": 145,
   "id": "b7defa1e",
   "metadata": {},
   "outputs": [],
   "source": [
    "#compile the model\n",
    "\n",
    "cnn.compile(optimizer='adam', loss = 'binary_crossentropy', metrics=['accuracy'])"
   ]
  },
  {
   "cell_type": "code",
   "execution_count": 146,
   "id": "efdb840b",
   "metadata": {},
   "outputs": [
    {
     "name": "stdout",
     "output_type": "stream",
     "text": [
      "Model: \"sequential_13\"\n",
      "_________________________________________________________________\n",
      " Layer (type)                Output Shape              Param #   \n",
      "=================================================================\n",
      " conv2d_20 (Conv2D)          (None, 62, 62, 32)        896       \n",
      "                                                                 \n",
      " max_pooling2d_18 (MaxPoolin  (None, 31, 31, 32)       0         \n",
      " g2D)                                                            \n",
      "                                                                 \n",
      " conv2d_21 (Conv2D)          (None, 29, 29, 32)        9248      \n",
      "                                                                 \n",
      " max_pooling2d_19 (MaxPoolin  (None, 14, 14, 32)       0         \n",
      " g2D)                                                            \n",
      "                                                                 \n",
      " flatten_7 (Flatten)         (None, 6272)              0         \n",
      "                                                                 \n",
      " dense_15 (Dense)            (None, 128)               802944    \n",
      "                                                                 \n",
      " dense_16 (Dense)            (None, 1)                 129       \n",
      "                                                                 \n",
      "=================================================================\n",
      "Total params: 813,217\n",
      "Trainable params: 813,217\n",
      "Non-trainable params: 0\n",
      "_________________________________________________________________\n"
     ]
    }
   ],
   "source": [
    "cnn.summary()"
   ]
  },
  {
   "cell_type": "code",
   "execution_count": 122,
   "id": "dd8814bb",
   "metadata": {},
   "outputs": [
    {
     "name": "stdout",
     "output_type": "stream",
     "text": [
      "Epoch 1/25\n",
      "1250/1250 [==============================] - 107s 86ms/step - loss: 0.1211 - accuracy: 0.9537 - val_loss: 0.5950 - val_accuracy: 0.8354\n",
      "Epoch 2/25\n",
      "1250/1250 [==============================] - 101s 81ms/step - loss: 0.1261 - accuracy: 0.9518 - val_loss: 0.5792 - val_accuracy: 0.8366\n",
      "Epoch 3/25\n",
      "1250/1250 [==============================] - 102s 82ms/step - loss: 0.1160 - accuracy: 0.9564 - val_loss: 0.6461 - val_accuracy: 0.8304\n",
      "Epoch 4/25\n",
      "1250/1250 [==============================] - 101s 81ms/step - loss: 0.1136 - accuracy: 0.9576 - val_loss: 0.6349 - val_accuracy: 0.8370\n",
      "Epoch 5/25\n",
      "1250/1250 [==============================] - 99s 79ms/step - loss: 0.1124 - accuracy: 0.9555 - val_loss: 0.6790 - val_accuracy: 0.8318\n",
      "Epoch 6/25\n",
      "1250/1250 [==============================] - 95s 76ms/step - loss: 0.1130 - accuracy: 0.9573 - val_loss: 0.6566 - val_accuracy: 0.8256\n",
      "Epoch 7/25\n",
      "1250/1250 [==============================] - 104s 84ms/step - loss: 0.1070 - accuracy: 0.9607 - val_loss: 0.6255 - val_accuracy: 0.8242\n",
      "Epoch 8/25\n",
      "1250/1250 [==============================] - 99s 80ms/step - loss: 0.1077 - accuracy: 0.9598 - val_loss: 0.6144 - val_accuracy: 0.8298\n",
      "Epoch 9/25\n",
      "1250/1250 [==============================] - 99s 79ms/step - loss: 0.1008 - accuracy: 0.9620 - val_loss: 0.7068 - val_accuracy: 0.8258\n",
      "Epoch 10/25\n",
      "1250/1250 [==============================] - 98s 78ms/step - loss: 0.1020 - accuracy: 0.9611 - val_loss: 0.6900 - val_accuracy: 0.8254\n",
      "Epoch 11/25\n",
      "1250/1250 [==============================] - 97s 77ms/step - loss: 0.0988 - accuracy: 0.9627 - val_loss: 0.6588 - val_accuracy: 0.8234\n",
      "Epoch 12/25\n",
      "1250/1250 [==============================] - 99s 79ms/step - loss: 0.0988 - accuracy: 0.9642 - val_loss: 0.6807 - val_accuracy: 0.8318\n",
      "Epoch 13/25\n",
      "1250/1250 [==============================] - 99s 79ms/step - loss: 0.0932 - accuracy: 0.9650 - val_loss: 0.6259 - val_accuracy: 0.8232\n",
      "Epoch 14/25\n",
      "1250/1250 [==============================] - 99s 79ms/step - loss: 0.0912 - accuracy: 0.9661 - val_loss: 0.7063 - val_accuracy: 0.8332\n",
      "Epoch 15/25\n",
      "1250/1250 [==============================] - 105s 84ms/step - loss: 0.0942 - accuracy: 0.9657 - val_loss: 0.6861 - val_accuracy: 0.8310\n",
      "Epoch 16/25\n",
      "1250/1250 [==============================] - 101s 81ms/step - loss: 0.0929 - accuracy: 0.9658 - val_loss: 0.6306 - val_accuracy: 0.8334\n",
      "Epoch 17/25\n",
      "1250/1250 [==============================] - 99s 79ms/step - loss: 0.0848 - accuracy: 0.9699 - val_loss: 0.6896 - val_accuracy: 0.8260\n",
      "Epoch 18/25\n",
      "1250/1250 [==============================] - 100s 80ms/step - loss: 0.0865 - accuracy: 0.9679 - val_loss: 0.7420 - val_accuracy: 0.8280\n",
      "Epoch 19/25\n",
      "1250/1250 [==============================] - 96s 77ms/step - loss: 0.0863 - accuracy: 0.9679 - val_loss: 0.7012 - val_accuracy: 0.8240\n",
      "Epoch 20/25\n",
      "1250/1250 [==============================] - 97s 78ms/step - loss: 0.0867 - accuracy: 0.9692 - val_loss: 0.7108 - val_accuracy: 0.8278\n",
      "Epoch 21/25\n",
      "1250/1250 [==============================] - 97s 78ms/step - loss: 0.0852 - accuracy: 0.9683 - val_loss: 0.7557 - val_accuracy: 0.8114\n",
      "Epoch 22/25\n",
      "1250/1250 [==============================] - 98s 78ms/step - loss: 0.0836 - accuracy: 0.9700 - val_loss: 0.7787 - val_accuracy: 0.8246\n",
      "Epoch 23/25\n",
      "1250/1250 [==============================] - 98s 78ms/step - loss: 0.0838 - accuracy: 0.9696 - val_loss: 0.7650 - val_accuracy: 0.8278\n",
      "Epoch 24/25\n",
      "1250/1250 [==============================] - 97s 78ms/step - loss: 0.0800 - accuracy: 0.9712 - val_loss: 0.7498 - val_accuracy: 0.8316\n",
      "Epoch 25/25\n",
      "1250/1250 [==============================] - 97s 78ms/step - loss: 0.0808 - accuracy: 0.9704 - val_loss: 0.7144 - val_accuracy: 0.8354\n"
     ]
    }
   ],
   "source": [
    "#train the model\n",
    "\n",
    "history = cnn.fit(train_generator,validation_data=validation_generator, epochs = 25)"
   ]
  },
  {
   "cell_type": "code",
   "execution_count": 128,
   "id": "86f2d54c",
   "metadata": {},
   "outputs": [
    {
     "name": "stdout",
     "output_type": "stream",
     "text": [
      "1/1 [==============================] - 0s 43ms/step\n"
     ]
    }
   ],
   "source": [
    "import numpy as np\n",
    "from keras.utils import load_img, img_to_array\n",
    "test_image= load_img('archive/predict/2.jpg', target_size= (64,64))\n",
    "test_image= img_to_array(test_image)\n",
    "test_image= np.expand_dims(test_image,axis=0)\n",
    "result= cnn.predict(test_image)\n",
    "train_generator.class_indices\n",
    "if result[0][0]==1:\n",
    "    prediction= 'dog'\n",
    "else:\n",
    "    prediction= 'cat'"
   ]
  },
  {
   "cell_type": "code",
   "execution_count": 129,
   "id": "986937ac",
   "metadata": {},
   "outputs": [
    {
     "data": {
      "text/plain": [
       "'cat'"
      ]
     },
     "execution_count": 129,
     "metadata": {},
     "output_type": "execute_result"
    }
   ],
   "source": [
    "prediction"
   ]
  },
  {
   "cell_type": "code",
   "execution_count": 130,
   "id": "07dd3770",
   "metadata": {},
   "outputs": [
    {
     "name": "stdout",
     "output_type": "stream",
     "text": [
      "dict_keys(['loss', 'accuracy', 'val_loss', 'val_accuracy'])\n"
     ]
    }
   ],
   "source": [
    "import matplotlib.pyplot as plt\n",
    "print(history.history.keys())"
   ]
  },
  {
   "cell_type": "code",
   "execution_count": 133,
   "id": "a0c0aad3",
   "metadata": {},
   "outputs": [
    {
     "data": {
      "text/plain": [
       "[<matplotlib.lines.Line2D at 0x7fe5e2df4730>]"
      ]
     },
     "execution_count": 133,
     "metadata": {},
     "output_type": "execute_result"
    },
    {
     "data": {
      "image/png": "[encoded data removed]",
      "text/plain": [
       "<Figure size 640x480 with 1 Axes>"
      ]
     },
     "metadata": {},
     "output_type": "display_data"
    }
   ],
   "source": [
    "plt.plot(history.history['accuracy'])"
   ]
  },
  {
   "cell_type": "code",
   "execution_count": 134,
   "id": "99a0b7f2",
   "metadata": {},
   "outputs": [
    {
     "data": {
      "image/png": "[encoded data removed]",
      "text/plain": [
       "<Figure size 640x480 with 1 Axes>"
      ]
     },
     "metadata": {},
     "output_type": "display_data"
    }
   ],
   "source": [
    "plt.plot(history.history['accuracy'],color='red',label='train')\n",
    "plt.plot(history.history['val_accuracy'],color='blue',label='validation')\n",
    "plt.legend()\n",
    "plt.show()"
   ]
  }
 ],
 "metadata": {
  "kernelspec": {
   "display_name": "Python 3 (ipykernel)",
   "language": "python",
   "name": "python3"
  },
  "language_info": {
   "codemirror_mode": {
    "name": "ipython",
    "version": 3
   },
   "file_extension": ".py",
   "mimetype": "text/x-python",
   "name": "python",
   "nbconvert_exporter": "python",
   "pygments_lexer": "ipython3",
   "version": "3.10.6"
  }
 },
 "nbformat": 4,
 "nbformat_minor": 5
}
